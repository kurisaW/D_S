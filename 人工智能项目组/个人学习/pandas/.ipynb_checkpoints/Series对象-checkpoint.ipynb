{
 "cells": [
  {
   "cell_type": "code",
   "execution_count": 2,
   "id": "b807f988",
   "metadata": {},
   "outputs": [
    {
     "name": "stdout",
     "output_type": "stream",
     "text": [
      "0    a\n",
      "1    b\n",
      "2    c\n",
      "3    d\n",
      "dtype: object\n"
     ]
    }
   ],
   "source": [
    "import pandas as pd\n",
    "import numpy as np"
   ]
  },
  {
   "cell_type": "markdown",
   "id": "e4a927f6",
   "metadata": {},
   "source": [
    "## 一、创建Series对象"
   ]
  },
  {
   "cell_type": "markdown",
   "id": "f881219c",
   "metadata": {},
   "source": [
    "#### 1、ndarray创建Serial对象，ndarray是Numpy中的数组类型。\n",
    "#### 当data是ndarray时，传递的索引必须具有与数组相同的长度"
   ]
  },
  {
   "cell_type": "code",
   "execution_count": 4,
   "id": "22bad79c",
   "metadata": {},
   "outputs": [
    {
     "name": "stdout",
     "output_type": "stream",
     "text": [
      "0    a\n",
      "1    b\n",
      "2    c\n",
      "3    d\n",
      "dtype: object\n",
      "100    a\n",
      "101    b\n",
      "102    c\n",
      "103    d\n",
      "dtype: object\n"
     ]
    }
   ],
   "source": [
    "data = np.array(['a','b','c','d'])\n",
    "# 隐式索引\n",
    "s = pd.Series(data)\n",
    "print(s)\n",
    "\n",
    "# 显式索引\n",
    "s = pd.Series(data,index=[100,101,102,103])\n",
    "print(s)"
   ]
  },
  {
   "cell_type": "markdown",
   "id": "19a6f8f2",
   "metadata": {},
   "source": [
    "#### 2、dict创建Serial对象"
   ]
  },
  {
   "cell_type": "markdown",
   "id": "3c570e3e",
   "metadata": {},
   "source": [
    "可以把dict作为输入数据\n",
    "如果没有传入索引时会按照字典的键来构造索引；\n",
    "反之，当传递了索引时需要将索引标签与字典的值一一对应"
   ]
  },
  {
   "cell_type": "code",
   "execution_count": 9,
   "id": "1bd854d7",
   "metadata": {},
   "outputs": [
    {
     "name": "stdout",
     "output_type": "stream",
     "text": [
      "a    0.0\n",
      "b    1.0\n",
      "c    2.0\n",
      "dtype: float64\n"
     ]
    }
   ],
   "source": [
    "data = {'a':0.,'b':1.,'c':2.}\n",
    "s = pd.Series(data)\n",
    "print(s)"
   ]
  },
  {
   "cell_type": "markdown",
   "id": "be82ddbd",
   "metadata": {},
   "source": [
    "为index参数传递索引"
   ]
  },
  {
   "cell_type": "code",
   "execution_count": 11,
   "id": "12e5350f",
   "metadata": {},
   "outputs": [
    {
     "name": "stdout",
     "output_type": "stream",
     "text": [
      "b    1.0\n",
      "c    2.0\n",
      "d    NaN\n",
      "a    0.0\n",
      "dtype: float64\n"
     ]
    }
   ],
   "source": [
    "s = pd.Series(data,index=['b','c','d','a'])\n",
    "print(s)"
   ]
  },
  {
   "cell_type": "markdown",
   "id": "36c46af7",
   "metadata": {},
   "source": [
    "当传递的索引值无法找到与其对应的值时，使用Nan(非数字)填充"
   ]
  },
  {
   "cell_type": "markdown",
   "id": "8d423892",
   "metadata": {},
   "source": [
    "#### 3、标量创建Series对象"
   ]
  },
  {
   "cell_type": "markdown",
   "id": "e2d505eb",
   "metadata": {},
   "source": [
    "如果data时标量值，则必须提供索引，实例如下："
   ]
  },
  {
   "cell_type": "code",
   "execution_count": 12,
   "id": "25ee5445",
   "metadata": {},
   "outputs": [
    {
     "name": "stdout",
     "output_type": "stream",
     "text": [
      "0    5\n",
      "1    5\n",
      "2    5\n",
      "3    5\n",
      "dtype: int64\n"
     ]
    }
   ],
   "source": [
    "s = pd.Series(5,index=[0,1,2,3])\n",
    "print(s)"
   ]
  },
  {
   "cell_type": "markdown",
   "id": "0de64202",
   "metadata": {},
   "source": [
    "标量值按照index的数量进行重复，并与其一一对应"
   ]
  },
  {
   "cell_type": "markdown",
   "id": "846de39f",
   "metadata": {},
   "source": [
    "## 二、访问Series数据\n",
    "访问Series序元素，分为两种方式：\n",
    "一种是位置索引访问列中；\n",
    "另外一种是索引标签访问。"
   ]
  },
  {
   "cell_type": "markdown",
   "id": "9c8f6dc6",
   "metadata": {},
   "source": [
    "#### 1、位置索引访问\n",
    "这种访问方式与ndarray和list相同，使用元素自身的下下标进行访问。"
   ]
  },
  {
   "cell_type": "code",
   "execution_count": 13,
   "id": "ca2650be",
   "metadata": {},
   "outputs": [
    {
     "name": "stdout",
     "output_type": "stream",
     "text": [
      "1\n",
      "1\n"
     ]
    }
   ],
   "source": [
    "import pandas as pd\n",
    "s = pd.Series([1,2,3,4,5],index = ['a','b','c','d','e'])\n",
    "print(s[0]) # 位置下标\n",
    "print(s['a'])# 标签下标"
   ]
  },
  {
   "cell_type": "code",
   "execution_count": 17,
   "id": "ce2ef6d8",
   "metadata": {},
   "outputs": [
    {
     "name": "stdout",
     "output_type": "stream",
     "text": [
      "a    1\n",
      "b    2\n",
      "c    3\n",
      "d    4\n",
      "dtype: int64\n"
     ]
    }
   ],
   "source": [
    "# 使用切片的方式访问Series序列中的数据\n",
    "import pandas as pd\n",
    "s = pd.Series([1,2,3,4,5],index = ['a','b','c','d','e'])\n",
    "print(s[:4])"
   ]
  },
  {
   "cell_type": "code",
   "execution_count": 18,
   "id": "f60a0af5",
   "metadata": {},
   "outputs": [
    {
     "name": "stdout",
     "output_type": "stream",
     "text": [
      "c    3\n",
      "d    4\n",
      "e    5\n",
      "dtype: int64\n"
     ]
    }
   ],
   "source": [
    "# 获取最后几位元素\n",
    "print(s[-3:])"
   ]
  },
  {
   "cell_type": "markdown",
   "id": "4d41c95a",
   "metadata": {},
   "source": [
    "#### 2、索引标签访问\n",
    "Series类似与固定大小的dict,把index中的索引标签当作key，而把Series序列中的元素值当作value，然后通过index索引标签来访问或者修改元素值"
   ]
  },
  {
   "cell_type": "code",
   "execution_count": 21,
   "id": "fd2abbc7",
   "metadata": {},
   "outputs": [
    {
     "name": "stdout",
     "output_type": "stream",
     "text": [
      "6\n"
     ]
    }
   ],
   "source": [
    "import pandas as pd\n",
    "s = pd.Series([6,7,8,9,10],index = ['a','b','c','d','e'])\n",
    "print(s['a'])\n",
    "# 使用索引标签访问多个元素值"
   ]
  },
  {
   "cell_type": "markdown",
   "id": "478fd4ec",
   "metadata": {},
   "source": [
    "## 三、Series常用属性"
   ]
  },
  {
   "attachments": {
    "image.png": {
     "image/png": "[encoded data removed]"
    }
   },
   "cell_type": "markdown",
   "id": "f48d1bff",
   "metadata": {},
   "source": [
    "![image.png](attachment:image.png)"
   ]
  },
  {
   "cell_type": "markdown",
   "id": "f6e45683",
   "metadata": {},
   "source": [
    "首先创建一个Series对象，并演示如何使用上述表格的属性"
   ]
  },
  {
   "cell_type": "code",
   "execution_count": 22,
   "id": "00ac7f79",
   "metadata": {},
   "outputs": [
    {
     "name": "stdout",
     "output_type": "stream",
     "text": [
      "0   -1.059980\n",
      "1   -1.105974\n",
      "2    0.743334\n",
      "3   -0.533630\n",
      "4    0.850330\n",
      "dtype: float64\n"
     ]
    }
   ],
   "source": [
    "import pandas as pd\n",
    "import numpy as np\n",
    "s = pd.Series(np.random.randn(5))\n",
    "print(s)"
   ]
  },
  {
   "cell_type": "markdown",
   "id": "db17a88b",
   "metadata": {},
   "source": [
    "#### 1、axes"
   ]
  },
  {
   "cell_type": "code",
   "execution_count": 24,
   "id": "286f0c5a",
   "metadata": {},
   "outputs": [
    {
     "name": "stdout",
     "output_type": "stream",
     "text": [
      "The axes are:\n",
      "[RangeIndex(start=0, stop=5, step=1)]\n"
     ]
    }
   ],
   "source": [
    "import pandas as pd\n",
    "import numpy as np\n",
    "s = pd.Series(np.random.randn(5))\n",
    "print(\"The axes are:\")\n",
    "print(s.axes)"
   ]
  },
  {
   "cell_type": "markdown",
   "id": "424f7075",
   "metadata": {},
   "source": [
    "#### 2、dtype"
   ]
  },
  {
   "cell_type": "code",
   "execution_count": 25,
   "id": "48d86c91",
   "metadata": {},
   "outputs": [
    {
     "name": "stdout",
     "output_type": "stream",
     "text": [
      "The dtype is:\n",
      "float64\n"
     ]
    }
   ],
   "source": [
    "import pandas as pd\n",
    "import numpy as np\n",
    "s = pd.Series(np.random.randn(5))\n",
    "print(\"The dtype is:\")\n",
    "print(s.dtype)"
   ]
  },
  {
   "cell_type": "markdown",
   "id": "739431c5",
   "metadata": {},
   "source": [
    "#### 3、empty"
   ]
  },
  {
   "cell_type": "code",
   "execution_count": 26,
   "id": "963dbeaf",
   "metadata": {},
   "outputs": [
    {
     "name": "stdout",
     "output_type": "stream",
     "text": [
      "是否有空对象？\n",
      "False\n"
     ]
    }
   ],
   "source": [
    "import pandas as pd\n",
    "import numpy as np\n",
    "s = pd.Series(np.random.randn(5))\n",
    "print(\"是否有空对象？\")\n",
    "print(s.empty)"
   ]
  },
  {
   "cell_type": "code",
   "execution_count": null,
   "id": "45135de6",
   "metadata": {},
   "outputs": [],
   "source": []
  }
 ],
 "metadata": {
  "kernelspec": {
   "display_name": "python_env",
   "language": "python",
   "name": "python_env"
  },
  "language_info": {
   "codemirror_mode": {
    "name": "ipython",
    "version": 3
   },
   "file_extension": ".py",
   "mimetype": "text/x-python",
   "name": "python",
   "nbconvert_exporter": "python",
   "pygments_lexer": "ipython3",
   "version": "3.9.7"
  }
 },
 "nbformat": 4,
 "nbformat_minor": 5
}
