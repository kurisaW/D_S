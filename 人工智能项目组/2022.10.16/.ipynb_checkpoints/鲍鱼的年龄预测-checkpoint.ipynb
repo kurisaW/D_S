{
 "cells": [
  {
   "cell_type": "code",
   "execution_count": 1,
   "id": "5015302b",
   "metadata": {},
   "outputs": [],
   "source": [
    "import numpy as np\n",
    "import pandas as pd \n",
    "import matplotlib.pyplot as plt \n",
    "import matplotlib as mpl \n",
    "import warnings"
   ]
  },
  {
   "cell_type": "code",
   "execution_count": 2,
   "id": "8d3d22ee",
   "metadata": {},
   "outputs": [],
   "source": [
    "# 忽略警告、确定绘图风格、解决绘图中文报错\n",
    "warnings.filterwarnings('ignore')\n",
    "plt.style.use('classic')\n",
    "mpl.rcParams['font.family'] = 'SimHei'"
   ]
  },
  {
   "cell_type": "markdown",
   "id": "2aef306c",
   "metadata": {},
   "source": [
    "性别 / 标称 / -- / M， F， I （婴儿）<br>\n",
    "长度<br>\n",
    "直径<br>\n",
    "高度带壳<br>\n",
    "整鲍<br>\n",
    "肉<br>\n",
    "肠道重量（出血后）<br>\n",
    "壳重量<br>\n",
    "年龄<br>"
   ]
  },
  {
   "cell_type": "code",
   "execution_count": 3,
   "id": "65641468",
   "metadata": {},
   "outputs": [
    {
     "data": {
      "text/html": [
       "<div>\n",
       "<style scoped>\n",
       "    .dataframe tbody tr th:only-of-type {\n",
       "        vertical-align: middle;\n",
       "    }\n",
       "\n",
       "    .dataframe tbody tr th {\n",
       "        vertical-align: top;\n",
       "    }\n",
       "\n",
       "    .dataframe thead th {\n",
       "        text-align: right;\n",
       "    }\n",
       "</style>\n",
       "<table border=\"1\" class=\"dataframe\">\n",
       "  <thead>\n",
       "    <tr style=\"text-align: right;\">\n",
       "      <th></th>\n",
       "      <th>sex</th>\n",
       "      <th>cd</th>\n",
       "      <th>zj</th>\n",
       "      <th>dk_gd</th>\n",
       "      <th>zb_zl</th>\n",
       "      <th>r_zl</th>\n",
       "      <th>cd_zl</th>\n",
       "      <th>k_zl</th>\n",
       "      <th>age</th>\n",
       "    </tr>\n",
       "  </thead>\n",
       "  <tbody>\n",
       "    <tr>\n",
       "      <th>0</th>\n",
       "      <td>M</td>\n",
       "      <td>0.455</td>\n",
       "      <td>0.365</td>\n",
       "      <td>0.095</td>\n",
       "      <td>0.5140</td>\n",
       "      <td>0.2245</td>\n",
       "      <td>0.1010</td>\n",
       "      <td>0.150</td>\n",
       "      <td>15</td>\n",
       "    </tr>\n",
       "    <tr>\n",
       "      <th>1</th>\n",
       "      <td>M</td>\n",
       "      <td>0.350</td>\n",
       "      <td>0.265</td>\n",
       "      <td>0.090</td>\n",
       "      <td>0.2255</td>\n",
       "      <td>0.0995</td>\n",
       "      <td>0.0485</td>\n",
       "      <td>0.070</td>\n",
       "      <td>7</td>\n",
       "    </tr>\n",
       "    <tr>\n",
       "      <th>2</th>\n",
       "      <td>F</td>\n",
       "      <td>0.530</td>\n",
       "      <td>0.420</td>\n",
       "      <td>0.135</td>\n",
       "      <td>0.6770</td>\n",
       "      <td>0.2565</td>\n",
       "      <td>0.1415</td>\n",
       "      <td>0.210</td>\n",
       "      <td>9</td>\n",
       "    </tr>\n",
       "    <tr>\n",
       "      <th>3</th>\n",
       "      <td>M</td>\n",
       "      <td>0.440</td>\n",
       "      <td>0.365</td>\n",
       "      <td>0.125</td>\n",
       "      <td>0.5160</td>\n",
       "      <td>0.2155</td>\n",
       "      <td>0.1140</td>\n",
       "      <td>0.155</td>\n",
       "      <td>10</td>\n",
       "    </tr>\n",
       "    <tr>\n",
       "      <th>4</th>\n",
       "      <td>I</td>\n",
       "      <td>0.330</td>\n",
       "      <td>0.255</td>\n",
       "      <td>0.080</td>\n",
       "      <td>0.2050</td>\n",
       "      <td>0.0895</td>\n",
       "      <td>0.0395</td>\n",
       "      <td>0.055</td>\n",
       "      <td>7</td>\n",
       "    </tr>\n",
       "  </tbody>\n",
       "</table>\n",
       "</div>"
      ],
      "text/plain": [
       "  sex     cd     zj  dk_gd   zb_zl    r_zl   cd_zl   k_zl  age\n",
       "0   M  0.455  0.365  0.095  0.5140  0.2245  0.1010  0.150   15\n",
       "1   M  0.350  0.265  0.090  0.2255  0.0995  0.0485  0.070    7\n",
       "2   F  0.530  0.420  0.135  0.6770  0.2565  0.1415  0.210    9\n",
       "3   M  0.440  0.365  0.125  0.5160  0.2155  0.1140  0.155   10\n",
       "4   I  0.330  0.255  0.080  0.2050  0.0895  0.0395  0.055    7"
      ]
     },
     "execution_count": 3,
     "metadata": {},
     "output_type": "execute_result"
    }
   ],
   "source": [
    "names = ['sex','cd','zj','dk_gd','zb_zl','r_zl','cd_zl','k_zl','age']\n",
    "features = pd.read_csv('../data/abalone.data',names=names)\n",
    "features.head()"
   ]
  },
  {
   "cell_type": "code",
   "execution_count": 4,
   "id": "8bd77826",
   "metadata": {},
   "outputs": [
    {
     "data": {
      "text/plain": [
       "(4177, 9)"
      ]
     },
     "execution_count": 4,
     "metadata": {},
     "output_type": "execute_result"
    }
   ],
   "source": [
    "# 数据维度\n",
    "features.shape"
   ]
  },
  {
   "attachments": {
    "%E7%8B%AC%E7%83%AD%E7%BC%96%E7%A0%81.jpg": {
     "image/jpeg": "[encoded data removed]"
    }
   },
   "cell_type": "markdown",
   "id": "d91fb33d",
   "metadata": {},
   "source": [
    "![%E7%8B%AC%E7%83%AD%E7%BC%96%E7%A0%81.jpg](attachment:%E7%8B%AC%E7%83%AD%E7%BC%96%E7%A0%81.jpg)"
   ]
  },
  {
   "cell_type": "code",
   "execution_count": 5,
   "id": "a1b41865",
   "metadata": {},
   "outputs": [
    {
     "data": {
      "text/html": [
       "<div>\n",
       "<style scoped>\n",
       "    .dataframe tbody tr th:only-of-type {\n",
       "        vertical-align: middle;\n",
       "    }\n",
       "\n",
       "    .dataframe tbody tr th {\n",
       "        vertical-align: top;\n",
       "    }\n",
       "\n",
       "    .dataframe thead th {\n",
       "        text-align: right;\n",
       "    }\n",
       "</style>\n",
       "<table border=\"1\" class=\"dataframe\">\n",
       "  <thead>\n",
       "    <tr style=\"text-align: right;\">\n",
       "      <th></th>\n",
       "      <th>cd</th>\n",
       "      <th>zj</th>\n",
       "      <th>dk_gd</th>\n",
       "      <th>zb_zl</th>\n",
       "      <th>r_zl</th>\n",
       "      <th>cd_zl</th>\n",
       "      <th>k_zl</th>\n",
       "      <th>age</th>\n",
       "      <th>sex_F</th>\n",
       "      <th>sex_I</th>\n",
       "      <th>sex_M</th>\n",
       "    </tr>\n",
       "  </thead>\n",
       "  <tbody>\n",
       "    <tr>\n",
       "      <th>0</th>\n",
       "      <td>0.455</td>\n",
       "      <td>0.365</td>\n",
       "      <td>0.095</td>\n",
       "      <td>0.5140</td>\n",
       "      <td>0.2245</td>\n",
       "      <td>0.1010</td>\n",
       "      <td>0.150</td>\n",
       "      <td>15</td>\n",
       "      <td>0</td>\n",
       "      <td>0</td>\n",
       "      <td>1</td>\n",
       "    </tr>\n",
       "    <tr>\n",
       "      <th>1</th>\n",
       "      <td>0.350</td>\n",
       "      <td>0.265</td>\n",
       "      <td>0.090</td>\n",
       "      <td>0.2255</td>\n",
       "      <td>0.0995</td>\n",
       "      <td>0.0485</td>\n",
       "      <td>0.070</td>\n",
       "      <td>7</td>\n",
       "      <td>0</td>\n",
       "      <td>0</td>\n",
       "      <td>1</td>\n",
       "    </tr>\n",
       "    <tr>\n",
       "      <th>2</th>\n",
       "      <td>0.530</td>\n",
       "      <td>0.420</td>\n",
       "      <td>0.135</td>\n",
       "      <td>0.6770</td>\n",
       "      <td>0.2565</td>\n",
       "      <td>0.1415</td>\n",
       "      <td>0.210</td>\n",
       "      <td>9</td>\n",
       "      <td>1</td>\n",
       "      <td>0</td>\n",
       "      <td>0</td>\n",
       "    </tr>\n",
       "    <tr>\n",
       "      <th>3</th>\n",
       "      <td>0.440</td>\n",
       "      <td>0.365</td>\n",
       "      <td>0.125</td>\n",
       "      <td>0.5160</td>\n",
       "      <td>0.2155</td>\n",
       "      <td>0.1140</td>\n",
       "      <td>0.155</td>\n",
       "      <td>10</td>\n",
       "      <td>0</td>\n",
       "      <td>0</td>\n",
       "      <td>1</td>\n",
       "    </tr>\n",
       "    <tr>\n",
       "      <th>4</th>\n",
       "      <td>0.330</td>\n",
       "      <td>0.255</td>\n",
       "      <td>0.080</td>\n",
       "      <td>0.2050</td>\n",
       "      <td>0.0895</td>\n",
       "      <td>0.0395</td>\n",
       "      <td>0.055</td>\n",
       "      <td>7</td>\n",
       "      <td>0</td>\n",
       "      <td>1</td>\n",
       "      <td>0</td>\n",
       "    </tr>\n",
       "  </tbody>\n",
       "</table>\n",
       "</div>"
      ],
      "text/plain": [
       "      cd     zj  dk_gd   zb_zl    r_zl   cd_zl   k_zl  age  sex_F  sex_I  \\\n",
       "0  0.455  0.365  0.095  0.5140  0.2245  0.1010  0.150   15      0      0   \n",
       "1  0.350  0.265  0.090  0.2255  0.0995  0.0485  0.070    7      0      0   \n",
       "2  0.530  0.420  0.135  0.6770  0.2565  0.1415  0.210    9      1      0   \n",
       "3  0.440  0.365  0.125  0.5160  0.2155  0.1140  0.155   10      0      0   \n",
       "4  0.330  0.255  0.080  0.2050  0.0895  0.0395  0.055    7      0      1   \n",
       "\n",
       "   sex_M  \n",
       "0      1  \n",
       "1      1  \n",
       "2      0  \n",
       "3      1  \n",
       "4      0  "
      ]
     },
     "execution_count": 5,
     "metadata": {},
     "output_type": "execute_result"
    }
   ],
   "source": [
    "# pandas 自带独热编码\n",
    "features = pd.get_dummies(features)\n",
    "features.head()"
   ]
  },
  {
   "cell_type": "code",
   "execution_count": 6,
   "id": "72606c68",
   "metadata": {},
   "outputs": [],
   "source": [
    "#  特征值(features)和标签值(labels)-->（x,y）\n",
    "labels = features.age\n",
    "features = features.drop('age',axis=1)"
   ]
  },
  {
   "cell_type": "code",
   "execution_count": 7,
   "id": "84faf9e1",
   "metadata": {},
   "outputs": [],
   "source": [
    "# 提取特征值的名字\n",
    "features_list = list(features.columns)"
   ]
  },
  {
   "cell_type": "code",
   "execution_count": 8,
   "id": "3ffa2c1b",
   "metadata": {},
   "outputs": [
    {
     "name": "stdout",
     "output_type": "stream",
     "text": [
      "训练集 (2923,)\n",
      "测试集 (1254, 10)\n"
     ]
    }
   ],
   "source": [
    "# 数据集分裂\n",
    "from sklearn.model_selection import train_test_split\n",
    "train_features,test_features,train_labels,test_labels = train_test_split(features,labels,test_size=0.3,random_state=0)\n",
    "print('训练集',train_labels.shape)\n",
    "print('测试集',test_features.shape)"
   ]
  },
  {
   "cell_type": "code",
   "execution_count": 9,
   "id": "039f6210",
   "metadata": {},
   "outputs": [],
   "source": [
    "# 随机森林\n",
    "from sklearn.ensemble import RandomForestRegressor\n",
    "rf = RandomForestRegressor(n_estimators=1000,random_state=0)\n",
    "rf.fit(train_features,train_labels)\n",
    "# 预测\n",
    "predictions = rf.predict(test_features)"
   ]
  },
  {
   "cell_type": "code",
   "execution_count": 10,
   "id": "611e97ce",
   "metadata": {},
   "outputs": [
    {
     "name": "stdout",
     "output_type": "stream",
     "text": [
      "MAPE： 15.352038455640608\n"
     ]
    }
   ],
   "source": [
    "# 计算误差\n",
    "errors = abs(predictions - test_labels)\n",
    "mape = 100 * (errors / test_labels)\n",
    "print('MAPE：',np.mean(mape))"
   ]
  },
  {
   "cell_type": "code",
   "execution_count": 11,
   "id": "9c5356cd",
   "metadata": {},
   "outputs": [],
   "source": [
    "# 误差偏大（树模型的角度考虑）\n",
    "# 绘制树模型\n",
    "from sklearn.tree import export_graphviz\n",
    "import pydot"
   ]
  },
  {
   "cell_type": "code",
   "execution_count": 12,
   "id": "74bedd75",
   "metadata": {},
   "outputs": [],
   "source": [
    "# 拿到一棵树\n",
    "tree = rf.estimators_[4]\n",
    "tree\n",
    "# # 导出树模型的dot文件\n",
    "export_graphviz(tree,out_file='tree.dot',feature_names=features_list,rounded=True,precision=1)\n",
    "(graph,) = pydot.graph_from_dot_file('C:\\\\Users\\\\DELL\\\\Desktop\\\\实验室课程\\\\code\\\\tree.dot')\n",
    "graph.write_jpg('tree.jpg')"
   ]
  },
  {
   "cell_type": "code",
   "execution_count": 15,
   "id": "cac41850",
   "metadata": {},
   "outputs": [],
   "source": [
    "# 后剪枝\n",
    "rf_small = RandomForestRegressor(n_estimators=10,max_depth=3,random_state=42)\n",
    "rf_small.fit(train_features,train_labels)\n",
    "tree_small = rf_small.estimators_[5]\n",
    "# # 导出树模型的dot文件\n",
    "export_graphviz(tree_small,out_file='small_tree.dot',feature_names=features_list,rounded=True,precision=1)\n",
    "(graph,) = pydot.graph_from_dot_file('small_tree.dot')\n",
    "graph.write_jpg('samll_tree.jpg')"
   ]
  },
  {
   "cell_type": "code",
   "execution_count": 16,
   "id": "34e33661",
   "metadata": {},
   "outputs": [
    {
     "name": "stdout",
     "output_type": "stream",
     "text": [
      "MAPE： 16.687099567100635\n"
     ]
    }
   ],
   "source": [
    "predictions = rf_small.predict(test_features)\n",
    "# 计算误差\n",
    "errors = abs(predictions - test_labels)\n",
    "mape = 100 * (errors / test_labels)\n",
    "print('MAPE：',np.mean(mape))"
   ]
  },
  {
   "cell_type": "code",
   "execution_count": null,
   "id": "515bdae6",
   "metadata": {},
   "outputs": [],
   "source": []
  }
 ],
 "metadata": {
  "kernelspec": {
   "display_name": "Python 3 (ipykernel)",
   "language": "python",
   "name": "python3"
  },
  "language_info": {
   "codemirror_mode": {
    "name": "ipython",
    "version": 3
   },
   "file_extension": ".py",
   "mimetype": "text/x-python",
   "name": "python",
   "nbconvert_exporter": "python",
   "pygments_lexer": "ipython3",
   "version": "3.9.12"
  }
 },
 "nbformat": 4,
 "nbformat_minor": 5
}
