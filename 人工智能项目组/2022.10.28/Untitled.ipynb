{
 "cells": [
  {
   "cell_type": "markdown",
   "id": "d8d5740f",
   "metadata": {},
   "source": [
    "## 安装库要求\n",
    "\n",
    "cycler          0.11.0\n",
    "Django          2.0\n",
    "kiwisolver      1.3.1\n",
    "matplotlib      3.3.4\n",
    "numpy           1.19.5\n",
    "pandas          1.1.5\n",
    "Pillow          8.4.0\n",
    "pip             21.3.1\n",
    "PyMySQL         1.0.2\n",
    "pyparsing       3.0.7\n",
    "python-dateutil 2.8.2\n",
    "pytz            2022.4\n",
    "scikit-learn    0.20.0\n",
    "scipy           1.5.4\n",
    "setuptools      59.6.0\n",
    "six             1.16.0\n",
    "wheel           0.37.1 "
   ]
  },
  {
   "cell_type": "code",
   "execution_count": null,
   "id": "40c9433d",
   "metadata": {},
   "outputs": [],
   "source": []
  }
 ],
 "metadata": {
  "kernelspec": {
   "display_name": "DS_Project",
   "language": "python",
   "name": "ds_project"
  },
  "language_info": {
   "codemirror_mode": {
    "name": "ipython",
    "version": 3
   },
   "file_extension": ".py",
   "mimetype": "text/x-python",
   "name": "python",
   "nbconvert_exporter": "python",
   "pygments_lexer": "ipython3",
   "version": "3.10.0"
  }
 },
 "nbformat": 4,
 "nbformat_minor": 5
}
