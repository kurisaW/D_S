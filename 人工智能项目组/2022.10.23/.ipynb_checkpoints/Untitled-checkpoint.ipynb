{
 "cells": [
  {
   "cell_type": "code",
   "execution_count": null,
   "id": "66afc6d6",
   "metadata": {},
   "outputs": [],
   "source": [
    "# 无监督学习不需要训练集，因为没有正确答案"
   ]
  },
  {
   "cell_type": "code",
   "execution_count": null,
   "id": "787aadf9",
   "metadata": {},
   "outputs": [],
   "source": [
    "# 做聚类任务需要看到两张图：手肘法和"
   ]
  },
  {
   "cell_type": "code",
   "execution_count": null,
   "id": "d94a6d1d",
   "metadata": {},
   "outputs": [],
   "source": []
  }
 ],
 "metadata": {
  "kernelspec": {
   "display_name": "DS_Project",
   "language": "python",
   "name": "ds_project"
  },
  "language_info": {
   "codemirror_mode": {
    "name": "ipython",
    "version": 3
   },
   "file_extension": ".py",
   "mimetype": "text/x-python",
   "name": "python",
   "nbconvert_exporter": "python",
   "pygments_lexer": "ipython3",
   "version": "3.10.0"
  }
 },
 "nbformat": 4,
 "nbformat_minor": 5
}
